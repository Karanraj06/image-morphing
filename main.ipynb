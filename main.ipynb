{
 "cells": [
  {
   "attachments": {},
   "cell_type": "markdown",
   "metadata": {},
   "source": [
    "Importing the required modules"
   ]
  },
  {
   "cell_type": "code",
   "execution_count": null,
   "metadata": {},
   "outputs": [],
   "source": [
    "import cv2 as cv\n",
    "import dlib\n",
    "import imageio\n",
    "import numpy as np\n"
   ]
  },
  {
   "attachments": {},
   "cell_type": "markdown",
   "metadata": {},
   "source": [
    "Reading the two images that will be used for image morphing"
   ]
  },
  {
   "cell_type": "code",
   "execution_count": null,
   "metadata": {},
   "outputs": [],
   "source": [
    "img1 = cv.imread(\"images/image1.jpg\")\n",
    "img1 = cv.cvtColor(img1, cv.COLOR_BGR2RGB)\n",
    "\n",
    "img2 = cv.imread(\"images/image2.jpg\")\n",
    "img2 = cv.cvtColor(img2, cv.COLOR_BGR2RGB)\n"
   ]
  },
  {
   "attachments": {},
   "cell_type": "markdown",
   "metadata": {},
   "source": [
    "Create empty lists to store the tie points"
   ]
  },
  {
   "cell_type": "code",
   "execution_count": null,
   "metadata": {},
   "outputs": [],
   "source": [
    "points1 = []\n",
    "points2 = []\n"
   ]
  },
  {
   "attachments": {},
   "cell_type": "markdown",
   "metadata": {},
   "source": [
    "Defining functions that will be used later in the program"
   ]
  },
  {
   "attachments": {},
   "cell_type": "markdown",
   "metadata": {},
   "source": [
    "Function that reads tie points from an input file"
   ]
  },
  {
   "cell_type": "code",
   "execution_count": null,
   "metadata": {},
   "outputs": [],
   "source": [
    "def tiePointsf():\n",
    "    # Create empty lists to store the tie points\n",
    "    points1 = []\n",
    "    points2 = []\n",
    "\n",
    "    # Open the input file and read the number of tie points\n",
    "    with open(\"input.txt\") as f:\n",
    "        for _ in range(int(f.readline())):\n",
    "            # Read each line of tie point coordinates and add them to their respective lists\n",
    "            x1, y1, x2, y2 = [int(i) for i in f.readline().split()]\n",
    "\n",
    "            points1.append((x1, y1))\n",
    "            points2.append((x2, y2))\n",
    "\n",
    "    # Add the corner points to the list of points for the first image\n",
    "    points1.append((0, 0))\n",
    "    points1.append((img1.shape[1] - 1, 0))\n",
    "    points1.append((0, img1.shape[0] - 1))\n",
    "    points1.append((img1.shape[1] - 1, img1.shape[0] - 1))\n",
    "\n",
    "    # Add the corner points to the list of points for the second image\n",
    "    points2.append((0, 0))\n",
    "    points2.append((img2.shape[1] - 1, 0))\n",
    "    points2.append((0, img2.shape[0] - 1))\n",
    "    points2.append((img2.shape[1] - 1, img2.shape[0] - 1))\n",
    "\n",
    "    return points1, points2\n"
   ]
  },
  {
   "attachments": {},
   "cell_type": "markdown",
   "metadata": {},
   "source": [
    "Function to get tie points using pre-trained shape predictor data"
   ]
  },
  {
   "cell_type": "code",
   "execution_count": null,
   "metadata": {},
   "outputs": [],
   "source": [
    "# Creating a dlib face detector object for detecting faces in images\n",
    "detector = dlib.get_frontal_face_detector()\n",
    "\n",
    "# Creating a dlib shape predictor object for predicting facial landmarks\n",
    "# The \"shape_predictor_68_face_landmarks.dat\" file contains pre-trained shape predictor data for detecting 68 facial landmarks\n",
    "predictor = dlib.shape_predictor(\"shape_predictor_68_face_landmarks.dat\")\n",
    "\n",
    "\n",
    "def tiePoints(img):\n",
    "    # Use the detector object to detect faces in the input image\n",
    "    face = detector(img)[0]\n",
    "\n",
    "    # Use the predictor object to get the 68 facial landmark points for the detected face\n",
    "    points = [(i.x, i.y) for i in predictor(img, face).parts()]\n",
    "\n",
    "    # Add the corner points of the image to the list of landmark points\n",
    "    points.append((0, 0))\n",
    "    points.append((img.shape[1] - 1, 0))\n",
    "    points.append((0, img.shape[0] - 1))\n",
    "    points.append((img.shape[1] - 1, img.shape[0] - 1))\n",
    "\n",
    "    # Return the list of tie points\n",
    "    return points\n"
   ]
  },
  {
   "attachments": {},
   "cell_type": "markdown",
   "metadata": {},
   "source": [
    "Performs delaunay triangulation on a list of landmark points on an image and returns a list of triangle indices"
   ]
  },
  {
   "cell_type": "code",
   "execution_count": null,
   "metadata": {},
   "outputs": [],
   "source": [
    "def delaunay_triangulation():\n",
    "    # Create a rectangle that bounds the image\n",
    "    bounding_rect = (0, 0, img1.shape[1], img1.shape[0])\n",
    "\n",
    "    # Create a new Subdiv2D object using the bounding rectangle\n",
    "    subdiv = cv.Subdiv2D(bounding_rect)\n",
    "\n",
    "    # Insert the landmark points into the Subdiv2D object\n",
    "    subdiv.insert(points1)\n",
    "\n",
    "    # Get a list of triangles from the Subdiv2D object\n",
    "    triangle_list = subdiv.getTriangleList()\n",
    "\n",
    "    # Create a dictionary that maps each landmark point to its index in the points list\n",
    "    point_index_dict = {point: index for index, point in enumerate(points1)}\n",
    "\n",
    "    # Create a list of triangles where each triangle is represented as a list of three point indices\n",
    "    triangle_indices = []\n",
    "    for triangle in triangle_list:\n",
    "        # Extract the indices of the three points that make up the triangle\n",
    "        point_indices = (\n",
    "            point_index_dict[(triangle[0], triangle[1])],\n",
    "            point_index_dict[(triangle[2], triangle[3])],\n",
    "            point_index_dict[(triangle[4], triangle[5])],\n",
    "        )\n",
    "        triangle_indices.append(point_indices)\n",
    "\n",
    "    # Return the list of triangle indices\n",
    "    return triangle_indices\n"
   ]
  },
  {
   "attachments": {},
   "cell_type": "markdown",
   "metadata": {},
   "source": [
    "Calculates the morphed triangle corresponding to triangle1 and triangle2 in the morphed image at the given alpha value"
   ]
  },
  {
   "cell_type": "code",
   "execution_count": null,
   "metadata": {},
   "outputs": [],
   "source": [
    "# Resulting image after morphing\n",
    "result = np.zeros_like(img1)\n",
    "\n",
    "\n",
    "def compute_morphed_triangle(triangle1, triangle2, triangle, alpha):\n",
    "    \"\"\"\n",
    "    triangle1: Contains the (x, y) coordinates of the vertices of triangle1 in img1\n",
    "    triangle2: Contains the (x, y) coordinates of the vertices of triangle2 in img2\n",
    "    triangle: Contains the (x, y) coordinates of the vertices of the morphed triangle in the morphed image\n",
    "    \"\"\"\n",
    "    # Calculate the bounding rectangle for triangle1 and crop the triangle\n",
    "    rect1 = cv.boundingRect(triangle1)\n",
    "    x1, y1, w1, h1 = rect1\n",
    "    cropped_triangle1 = img1[y1 : y1 + h1, x1 : x1 + w1]\n",
    "\n",
    "    # Offset the points in the triangle so they are relative to the bounding rectangle\n",
    "    t1_offset = triangle1 - [x1, y1]\n",
    "\n",
    "    # Create a mask for the cropped triangle1\n",
    "    mask1 = np.zeros((h1, w1), np.uint8)\n",
    "    cv.fillConvexPoly(mask1, t1_offset, (1.0, 1.0, 1.0), 16, 0)\n",
    "\n",
    "    # Apply the mask to the cropped triangle1\n",
    "    cropped_triangle1 = cv.bitwise_and(cropped_triangle1, cropped_triangle1, mask=mask1)\n",
    "\n",
    "    # Calculate the bounding rectangle for triangle2 and crop the triangle\n",
    "    rect2 = cv.boundingRect(triangle2)\n",
    "    x2, y2, w2, h2 = rect2\n",
    "    cropped_triangle2 = img2[y2 : y2 + h2, x2 : x2 + w2]\n",
    "\n",
    "    # Offset the points in the triangle so they are relative to the bounding rectangle\n",
    "    t2_offset = triangle2 - [x2, y2]\n",
    "\n",
    "    # Create a mask for the cropped triangle2\n",
    "    mask2 = np.zeros((h2, w2), np.uint8)\n",
    "    cv.fillConvexPoly(mask2, t2_offset, (1.0, 1.0, 1.0), 16, 0)\n",
    "\n",
    "    # Apply the mask to the cropped triangle2\n",
    "    cropped_triangle2 = cv.bitwise_and(cropped_triangle2, cropped_triangle2, mask=mask2)\n",
    "\n",
    "    # Calculate the bounding rectangle for the morphed triangle and create a mask for it\n",
    "    r = cv.boundingRect(triangle)\n",
    "    x, y, w, h = r\n",
    "\n",
    "    # Offset the points in the triangle so they are relative to the bounding rectangle\n",
    "    t_offset = triangle - [x, y]\n",
    "\n",
    "    # Create a mask for the morphed_triangle\n",
    "    mask = np.zeros((h, w, 3), np.uint8)\n",
    "    cv.fillConvexPoly(mask, t_offset, (1.0, 1.0, 1.0), 16, 0)\n",
    "\n",
    "    # Transform triangle1 and triangle2 to the morphed triangle\n",
    "    t1_offset = np.float32(t1_offset)\n",
    "    t2_offset = np.float32(t2_offset)\n",
    "    t_offset = np.float32(t_offset)\n",
    "\n",
    "    # Calculate the affine transformation matrices for the first and second triangles\n",
    "    M1 = cv.getAffineTransform(t1_offset, t_offset)\n",
    "    wrap_triangle1 = cv.warpAffine(cropped_triangle1, M1, (w, h))\n",
    "\n",
    "    M2 = cv.getAffineTransform(t2_offset, t_offset)\n",
    "    wrap_triangle2 = cv.warpAffine(cropped_triangle2, M2, (w, h))\n",
    "\n",
    "    # Combine the two triangles based on the alpha value to get the morphed triangle\n",
    "    morphed_triangle = (1.0 - alpha) * wrap_triangle1 + alpha * wrap_triangle2\n",
    "    morphed_triangle = np.uint8(morphed_triangle)\n",
    "\n",
    "    # Add the morphed triangle to the new image using the mask\n",
    "    result[y : y + h, x : x + w] = ((1.0, 1.0, 1.0) - mask) * result[\n",
    "        y : y + h, x : x + w\n",
    "    ] + morphed_triangle * mask\n"
   ]
  },
  {
   "attachments": {},
   "cell_type": "markdown",
   "metadata": {},
   "source": [
    "Function to create gif of image morphing"
   ]
  },
  {
   "cell_type": "code",
   "execution_count": null,
   "metadata": {},
   "outputs": [],
   "source": [
    "def create_morph_gif(filename):\n",
    "    global result\n",
    "\n",
    "    # Create a list of triangle indices\n",
    "    triangle_indices = delaunay_triangulation()\n",
    "\n",
    "    # Initialize empty list to store frames of the gif\n",
    "    frames = []\n",
    "\n",
    "    for alpha in np.linspace(0, 1, 100):\n",
    "        # Calculate intermediate points using weighted average\n",
    "        morphed_points = []\n",
    "\n",
    "        for i in range(len(points1)):\n",
    "            x = (1 - alpha) * points1[i][0] + alpha * points2[i][0]\n",
    "            y = (1 - alpha) * points1[i][1] + alpha * points2[i][1]\n",
    "            morphed_points.append((x, y))\n",
    "\n",
    "        for t in triangle_indices:\n",
    "            # Get the corresponding triangles in both images and morphed image\n",
    "            triangle1 = np.array(\n",
    "                [points1[t[0]], points1[t[1]], points1[t[2]]], np.int32\n",
    "            )\n",
    "            triangle2 = np.array(\n",
    "                [points2[t[0]], points2[t[1]], points2[t[2]]], np.int32\n",
    "            )\n",
    "            triangle = np.array(\n",
    "                [morphed_points[t[0]], morphed_points[t[1]], morphed_points[t[2]]],\n",
    "                np.int32,\n",
    "            )\n",
    "\n",
    "            # Calculate the morphed triangle and add to result\n",
    "            compute_morphed_triangle(triangle1, triangle2, triangle, alpha)\n",
    "\n",
    "        # Apply median filtering to the result and add it to the frames list\n",
    "        frames.append(cv.medianBlur(result, 5))\n",
    "\n",
    "        # Reset result for next iteration\n",
    "        result = np.zeros_like(img1)\n",
    "\n",
    "    # Save frames as a gif\n",
    "    imageio.mimsave(filename, frames, fps=50)\n"
   ]
  },
  {
   "attachments": {},
   "cell_type": "markdown",
   "metadata": {},
   "source": [
    "Part A"
   ]
  },
  {
   "cell_type": "code",
   "execution_count": null,
   "metadata": {},
   "outputs": [],
   "source": [
    "# Initialize the lists to store the tie points\n",
    "points1, points2 = tiePointsf()\n",
    "\n",
    "# Call create_morph_gif to get output1.gif\n",
    "create_morph_gif(\"output1.gif\")\n"
   ]
  },
  {
   "attachments": {},
   "cell_type": "markdown",
   "metadata": {},
   "source": [
    "Part B"
   ]
  },
  {
   "cell_type": "code",
   "execution_count": null,
   "metadata": {},
   "outputs": [],
   "source": [
    "# Initialize the lists to store the tie points\n",
    "points1 = tiePoints(img1)\n",
    "points2 = tiePoints(img2)\n",
    "\n",
    "# Call create_morph_gif to get output2.gif\n",
    "create_morph_gif(\"output2.gif\")\n"
   ]
  }
 ],
 "metadata": {
  "kernelspec": {
   "display_name": "myenv",
   "language": "python",
   "name": "python3"
  },
  "language_info": {
   "codemirror_mode": {
    "name": "ipython",
    "version": 3
   },
   "file_extension": ".py",
   "mimetype": "text/x-python",
   "name": "python",
   "nbconvert_exporter": "python",
   "pygments_lexer": "ipython3",
   "version": "3.7.16"
  },
  "orig_nbformat": 4,
  "vscode": {
   "interpreter": {
    "hash": "f2ae4315518d0ca808511b7a88c2f2559097887997724336d5c8f5e2b08e2a74"
   }
  }
 },
 "nbformat": 4,
 "nbformat_minor": 2
}
